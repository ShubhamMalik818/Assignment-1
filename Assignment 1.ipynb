{
 "cells": [
  {
   "cell_type": "code",
   "execution_count": null,
   "id": "323a3b0f-1adb-4e47-97d8-deb7223c8e28",
   "metadata": {},
   "outputs": [],
   "source": [
    "1. Who developed Python Programming Language?\n",
    "ANS-It was created by Guido van Rossum and releaesed in 1991"
   ]
  },
  {
   "cell_type": "code",
   "execution_count": null,
   "id": "1a9af3d4-2ea5-4b97-a4aa-4827fc9452a7",
   "metadata": {},
   "outputs": [],
   "source": [
    "2. Which type of Programming does Python support?\n",
    "ANS- Python is a multi-paradigm programming language.\n",
    "    Programming language supported by Python are\n",
    "    1.Object-oriented\n",
    "      2.Functional programming\n",
    "    3.Structured programming"
   ]
  },
  {
   "cell_type": "code",
   "execution_count": null,
   "id": "73214efa-9ed2-4ece-9458-d1f70b55e92b",
   "metadata": {},
   "outputs": [],
   "source": [
    "3. Is Python case sensitive when dealing with identifiers?\n",
    "ANS- Yes, Python is a case-sensitive language, i.e., it treats uppercase and lowercase characters differently. This applies to identifiers too. "
   ]
  },
  {
   "cell_type": "code",
   "execution_count": null,
   "id": "8371be12-50e0-4ee7-8608-6c4d0fea19a3",
   "metadata": {},
   "outputs": [],
   "source": [
    "4. What is the correct extension of the Python file?\n",
    "ANS- .py extension"
   ]
  },
  {
   "cell_type": "code",
   "execution_count": null,
   "id": "d81fcbe6-d807-4733-9332-1ea94251c9b1",
   "metadata": {},
   "outputs": [],
   "source": [
    "5. Is Python code compiled or interpreted?\n",
    "ANS- Python is both compiled as well as an interpreted language, which means when we run a python code, it is first compiled and then interpreted line by line."
   ]
  },
  {
   "cell_type": "code",
   "execution_count": null,
   "id": "8e14506b-4727-47df-8119-d9eca69dfc32",
   "metadata": {},
   "outputs": [],
   "source": [
    "6. Name a few blocks of code used to define in Python language?\n",
    "ANS- Indentation is used to define a block of code in python."
   ]
  },
  {
   "cell_type": "code",
   "execution_count": null,
   "id": "3374652e-734c-4bfe-bf53-578a5da067ff",
   "metadata": {},
   "outputs": [],
   "source": [
    "7. State a character used to give single-line comments in Python?\n",
    "ANS- We can write a single-line comment by adding a single # "
   ]
  },
  {
   "cell_type": "code",
   "execution_count": null,
   "id": "48616632-37e0-48dc-beb8-4a449c6a4cd0",
   "metadata": {},
   "outputs": [],
   "source": [
    "8. Mention functions which can help us to find the version of python that we are currently working on?\n",
    "ANS- The function sys. version can help us to find the version of python that we are currently working on."
   ]
  },
  {
   "cell_type": "code",
   "execution_count": null,
   "id": "b319d3e0-43f8-44aa-b8f9-04e114145de4",
   "metadata": {},
   "outputs": [],
   "source": [
    "9. Python supports the creation of anonymous functions at runtime, using a construct called?\n",
    "ANS- Lambda"
   ]
  },
  {
   "cell_type": "code",
   "execution_count": null,
   "id": "738fae04-ea2f-4499-926c-85b7b2c2c98b",
   "metadata": {},
   "outputs": [],
   "source": [
    "10. What does pip stand for python?\n",
    "ANS- pip stands for Preferred Installer Program"
   ]
  },
  {
   "cell_type": "code",
   "execution_count": null,
   "id": "25ba15be-3035-4a01-9f31-3f47c369b351",
   "metadata": {},
   "outputs": [],
   "source": [
    "11.Mention a few built-in functions in python?\n",
    "ANS- print( ) function\n",
    "     type( ) function\n",
    "     input( ) function\n",
    "    sorted( ) function\n",
    "     max( ) function\n",
    "    round( ) function\n",
    "     len( ) function\n",
    "    sum( ) function\n",
    "    help( ) function"
   ]
  },
  {
   "cell_type": "code",
   "execution_count": null,
   "id": "458c2e53-bf72-4fa4-9c54-1d732e10c5e9",
   "metadata": {},
   "outputs": [],
   "source": [
    "12. What is the maximum possible length of an indentifier in Python?\n",
    "ANS- An identifier can have a maximum length of 79 characters in Python."
   ]
  },
  {
   "cell_type": "code",
   "execution_count": null,
   "id": "07e7e0c2-88f5-4cfa-ace4-b13a608524de",
   "metadata": {},
   "outputs": [],
   "source": [
    "13. What are the benefits of using Python?\n",
    "ANS- 1.Presence of third-party modules \n",
    "     2.Extensive support libraries \n",
    "     3.Open source and large active community base \n",
    "    4.Versatile, Easy to read, learn and write\n",
    "    5.Portable and Interactive\n"
   ]
  },
  {
   "cell_type": "code",
   "execution_count": null,
   "id": "cc8339c7-bc2c-44c9-8133-6b5ee792c08b",
   "metadata": {},
   "outputs": [],
   "source": [
    "14. How is memory managed in Python?\n",
    "ANS- Memory in Python is managed by Python private heap space. All Python objects and data structures are located in a private heap. This private heap is taken care of by Python Interpreter itself, and a programmer does not have access to this private heap"
   ]
  },
  {
   "cell_type": "code",
   "execution_count": null,
   "id": "1687967b-6b9f-4f16-9060-3dcbf020721a",
   "metadata": {},
   "outputs": [],
   "source": [
    "15. How to install python on Windows and set path variables?\n",
    "ANS- The complete path of python.exe can be added by:\n",
    "\n",
    "    1.Right-clicking This PC and going to Properties.\n",
    "\n",
    "    2.Clicking on the Advanced system settings in the menu on the left.\n",
    "\n",
    "    3.Clicking on the Environment Variables button o​n the bottom right.\n",
    "\n",
    "    4.In the System variables section, selecting the Path variable and clicking on Edit. The next screen will show all the directories that are currently a part of the PATH variable.\n",
    "\n",
    "    5.Clicking on New and entering Python’s install directory.\n",
    "\n"
   ]
  },
  {
   "cell_type": "code",
   "execution_count": null,
   "id": "dc5af794-cefe-47d4-8c3d-45b7dcc630fe",
   "metadata": {},
   "outputs": [],
   "source": [
    "16. Is indentation required in python?\n",
    "ANS-"
   ]
  },
  {
   "cell_type": "code",
   "execution_count": null,
   "id": "f6d91a1c-c6c1-49bd-a435-f351a8f74e78",
   "metadata": {},
   "outputs": [],
   "source": []
  },
  {
   "cell_type": "code",
   "execution_count": null,
   "id": "aa5e015d-0112-4514-a754-0812dd221231",
   "metadata": {},
   "outputs": [],
   "source": []
  },
  {
   "cell_type": "code",
   "execution_count": null,
   "id": "b3fe5094-5103-47bf-b22f-51c0b1754066",
   "metadata": {},
   "outputs": [],
   "source": []
  },
  {
   "cell_type": "code",
   "execution_count": null,
   "id": "c31a46d8-003f-423d-b630-a854ff19ffda",
   "metadata": {},
   "outputs": [],
   "source": []
  }
 ],
 "metadata": {
  "kernelspec": {
   "display_name": "Python 3 (ipykernel)",
   "language": "python",
   "name": "python3"
  },
  "language_info": {
   "codemirror_mode": {
    "name": "ipython",
    "version": 3
   },
   "file_extension": ".py",
   "mimetype": "text/x-python",
   "name": "python",
   "nbconvert_exporter": "python",
   "pygments_lexer": "ipython3",
   "version": "3.10.8"
  }
 },
 "nbformat": 4,
 "nbformat_minor": 5
}
